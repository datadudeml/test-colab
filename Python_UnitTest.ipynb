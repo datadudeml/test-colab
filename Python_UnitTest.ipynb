{
  "nbformat": 4,
  "nbformat_minor": 0,
  "metadata": {
    "colab": {
      "name": "Python_UnitTest.ipynb",
      "provenance": [],
      "authorship_tag": "ABX9TyNYfjis1IwyfLIoSlT4CFnz",
      "include_colab_link": true
    },
    "kernelspec": {
      "name": "python3",
      "display_name": "Python 3"
    },
    "language_info": {
      "name": "python"
    }
  },
  "cells": [
    {
      "cell_type": "markdown",
      "metadata": {
        "id": "view-in-github",
        "colab_type": "text"
      },
      "source": [
        "<a href=\"https://colab.research.google.com/github/datadudeml/test-colab/blob/main/Python_UnitTest.ipynb\" target=\"_parent\"><img src=\"https://colab.research.google.com/assets/colab-badge.svg\" alt=\"Open In Colab\"/></a>"
      ]
    },
    {
      "cell_type": "code",
      "execution_count": 1,
      "metadata": {
        "colab": {
          "base_uri": "https://localhost:8080/"
        },
        "id": "4itga8A_RZXZ",
        "outputId": "d19745ba-64f7-457b-d648-9a804c2c1b4e"
      },
      "outputs": [
        {
          "output_type": "stream",
          "name": "stdout",
          "text": [
            "Hello World\n"
          ]
        }
      ],
      "source": [
        "print('Hello World')"
      ]
    },
    {
      "cell_type": "code",
      "source": [
        "print('Hello Colab')"
      ],
      "metadata": {
        "id": "QEyfwFXVTwNd",
        "colab": {
          "base_uri": "https://localhost:8080/"
        },
        "outputId": "6cfe386a-9bdb-4e2f-dcf9-143df8d1460f"
      },
      "execution_count": 2,
      "outputs": [
        {
          "output_type": "stream",
          "name": "stdout",
          "text": [
            "Hello Colab\n"
          ]
        }
      ]
    },
    {
      "cell_type": "markdown",
      "source": [
        "Markdown"
      ],
      "metadata": {
        "id": "Gx-yS8eVcml8"
      }
    },
    {
      "cell_type": "markdown",
      "source": [
        "'''\n",
        "Examples of markdown\n",
        "'''"
      ],
      "metadata": {
        "id": "qulROcDPc26V"
      }
    },
    {
      "cell_type": "markdown",
      "source": [
        "[Google link](https://www.google.co.in/)"
      ],
      "metadata": {
        "id": "s_If3c4ddcMf"
      }
    },
    {
      "cell_type": "code",
      "source": [
        ""
      ],
      "metadata": {
        "id": "sUgxgtspcq7A"
      },
      "execution_count": null,
      "outputs": []
    }
  ]
}